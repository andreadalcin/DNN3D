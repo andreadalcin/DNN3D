{
 "cells": [
  {
   "cell_type": "code",
   "id": "initial_id",
   "metadata": {
    "collapsed": true,
    "ExecuteTime": {
     "end_time": "2024-01-22T09:10:52.246803Z",
     "start_time": "2024-01-22T09:10:52.243701Z"
    }
   },
   "outputs": [],
   "source": [
    "from AdaBins.models import UnetAdaptiveBins\n",
    "from AdaBins import model_io \n",
    "from PIL import Image\n",
    "\n",
    "MIN_DEPTH = 1e-3\n",
    "MAX_DEPTH_NYU = 10\n",
    "MAX_DEPTH_KITTI = 80\n",
    "\n",
    "N_BINS = 256"
   ],
   "execution_count": 5
  },
  {
   "metadata": {},
   "cell_type": "markdown",
   "source": [
    "### NYU"
   ],
   "id": "c17c7fc64cf87f0c"
  },
  {
   "metadata": {
    "ExecuteTime": {
     "end_time": "2024-01-22T09:10:58.525069Z",
     "start_time": "2024-01-22T09:10:58.521812Z"
    }
   },
   "cell_type": "code",
   "outputs": [
    {
     "ename": "FileNotFoundError",
     "evalue": "[Errno 2] No such file or directory: './data/kitti-depth/0000000061.png'",
     "output_type": "error",
     "traceback": [
      "\u001B[0;31m---------------------------------------------------------------------------\u001B[0m",
      "\u001B[0;31mFileNotFoundError\u001B[0m                         Traceback (most recent call last)",
      "Cell \u001B[0;32mIn[7], line 1\u001B[0m\n\u001B[0;32m----> 1\u001B[0m image \u001B[38;5;241m=\u001B[39m Image\u001B[38;5;241m.\u001B[39mopen(\u001B[38;5;124m\"\u001B[39m\u001B[38;5;124m./data/kitti-depth/0000000061.png\u001B[39m\u001B[38;5;124m\"\u001B[39m)\n\u001B[1;32m      3\u001B[0m model \u001B[38;5;241m=\u001B[39m UnetAdaptiveBins\u001B[38;5;241m.\u001B[39mbuild(n_bins\u001B[38;5;241m=\u001B[39mN_BINS, min_val\u001B[38;5;241m=\u001B[39mMIN_DEPTH, max_val\u001B[38;5;241m=\u001B[39mMAX_DEPTH_NYU)\n\u001B[1;32m      4\u001B[0m pretrained_path \u001B[38;5;241m=\u001B[39m \u001B[38;5;124m\"\u001B[39m\u001B[38;5;124m./pretrained/AdaBins_nyu.pt\u001B[39m\u001B[38;5;124m\"\u001B[39m\n",
      "File \u001B[0;32m~/miniconda3/envs/DNN3D/lib/python3.11/site-packages/PIL/Image.py:3218\u001B[0m, in \u001B[0;36mopen\u001B[0;34m(fp, mode, formats)\u001B[0m\n\u001B[1;32m   3215\u001B[0m     filename \u001B[38;5;241m=\u001B[39m fp\n\u001B[1;32m   3217\u001B[0m \u001B[38;5;28;01mif\u001B[39;00m filename:\n\u001B[0;32m-> 3218\u001B[0m     fp \u001B[38;5;241m=\u001B[39m builtins\u001B[38;5;241m.\u001B[39mopen(filename, \u001B[38;5;124m\"\u001B[39m\u001B[38;5;124mrb\u001B[39m\u001B[38;5;124m\"\u001B[39m)\n\u001B[1;32m   3219\u001B[0m     exclusive_fp \u001B[38;5;241m=\u001B[39m \u001B[38;5;28;01mTrue\u001B[39;00m\n\u001B[1;32m   3221\u001B[0m \u001B[38;5;28;01mtry\u001B[39;00m:\n",
      "\u001B[0;31mFileNotFoundError\u001B[0m: [Errno 2] No such file or directory: './data/kitti-depth/0000000061.png'"
     ]
    }
   ],
   "source": [
    "image = Image.open(\"./data/kitti-depth/0000000061.png\")\n",
    "\n",
    "model = UnetAdaptiveBins.build(n_bins=N_BINS, min_val=MIN_DEPTH, max_val=MAX_DEPTH_NYU)\n",
    "pretrained_path = \"./pretrained/AdaBins_nyu.pt\"\n",
    "model, _, _ = model_io.load_checkpoint(pretrained_path, model)\n",
    "\n",
    "bin_edges, predicted_depth = model(example_rgb_batch)"
   ],
   "id": "b8a98b43f1150abc",
   "execution_count": 7
  },
  {
   "metadata": {},
   "cell_type": "markdown",
   "source": [
    "### KITTI-Depth"
   ],
   "id": "6fe75c206247582d"
  },
  {
   "metadata": {},
   "cell_type": "code",
   "outputs": [],
   "source": [
    "model = UnetAdaptiveBins.build(n_bins=N_BINS, min_val=MIN_DEPTH, max_val=MAX_DEPTH_KITTI)\n",
    "pretrained_path = \"./pretrained/AdaBins_kitti.pt\"\n",
    "model, _, _ = model_io.load_checkpoint(pretrained_path, model)\n",
    "\n",
    "bin_edges, predicted_depth = model(example_rgb_batch)"
   ],
   "id": "a09b393b705ba9d8"
  }
 ],
 "metadata": {
  "kernelspec": {
   "display_name": "Python 3",
   "language": "python",
   "name": "python3"
  },
  "language_info": {
   "codemirror_mode": {
    "name": "ipython",
    "version": 2
   },
   "file_extension": ".py",
   "mimetype": "text/x-python",
   "name": "python",
   "nbconvert_exporter": "python",
   "pygments_lexer": "ipython2",
   "version": "2.7.6"
  }
 },
 "nbformat": 4,
 "nbformat_minor": 5
}
